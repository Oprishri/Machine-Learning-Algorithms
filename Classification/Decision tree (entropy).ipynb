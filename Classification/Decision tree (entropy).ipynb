{
 "cells": [
  {
   "cell_type": "code",
   "execution_count": 31,
   "metadata": {
    "collapsed": true
   },
   "outputs": [],
   "source": [
    "import math\n",
    "import numpy as np\n",
    "import pandas as pd\n",
    "from anytree import Node, RenderTree"
   ]
  },
  {
   "cell_type": "code",
   "execution_count": 32,
   "metadata": {
    "collapsed": true
   },
   "outputs": [],
   "source": [
    "Dataset = pd.read_csv('/home/root123/Documents/weather.csv')"
   ]
  },
  {
   "cell_type": "code",
   "execution_count": 33,
   "metadata": {
    "collapsed": true
   },
   "outputs": [],
   "source": [
    "def entropy(data):\n",
    "    entropy =0\n",
    "    label=data.keys()[-1]\n",
    "    variables=data[label].unique()\n",
    "    for i in variables:\n",
    "        probability=data[label].value_counts()[i]/len(data[label])\n",
    "        entropy+=-probability*math.log(probability, 2)\n",
    "    return(entropy)"
   ]
  },
  {
   "cell_type": "code",
   "execution_count": 34,
   "metadata": {},
   "outputs": [
    {
     "data": {
      "text/plain": [
       "0.9402859586706309"
      ]
     },
     "execution_count": 34,
     "metadata": {},
     "output_type": "execute_result"
    }
   ],
   "source": [
    "entropyofclass=entropy(Dataset)\n",
    "entropyofclass"
   ]
  },
  {
   "cell_type": "code",
   "execution_count": 35,
   "metadata": {
    "collapsed": true
   },
   "outputs": [],
   "source": [
    "def Gain(data):\n",
    " Information_gain=[]\n",
    " for i in data.keys()[0:len(data.keys())-1]:\n",
    "    entrop=0\n",
    "    for j in data[i].unique():\n",
    "        lookup_tab = data[data[i] == j]\n",
    "        entrop+=entropy(lookup_tab)*(len(lookup_tab)/len(data))\n",
    "    Information_gain.append(entropyofclass-entrop)\n",
    " return(Information_gain)"
   ]
  },
  {
   "cell_type": "code",
   "execution_count": 36,
   "metadata": {},
   "outputs": [
    {
     "data": {
      "text/plain": [
       "[0.2467498197744391,\n",
       " 0.029222565658954647,\n",
       " 0.15183550136234136,\n",
       " 0.04812703040826927]"
      ]
     },
     "execution_count": 36,
     "metadata": {},
     "output_type": "execute_result"
    }
   ],
   "source": [
    "Gain(Dataset)"
   ]
  },
  {
   "cell_type": "code",
   "execution_count": 37,
   "metadata": {
    "collapsed": true
   },
   "outputs": [],
   "source": [
    "def splits(data):\n",
    "    Information_gain = Gain(data)\n",
    "    for i in range(len(Information_gain)):\n",
    "        if Information_gain[i]==max(Information_gain):\n",
    "           return(data.keys()[i])"
   ]
  },
  {
   "cell_type": "code",
   "execution_count": 38,
   "metadata": {},
   "outputs": [
    {
     "data": {
      "text/plain": [
       "'outlook'"
      ]
     },
     "execution_count": 38,
     "metadata": {},
     "output_type": "execute_result"
    }
   ],
   "source": [
    "node1=splits(Dataset)\n",
    "node"
   ]
  },
  {
   "cell_type": "code",
   "execution_count": 39,
   "metadata": {
    "collapsed": true
   },
   "outputs": [],
   "source": [
    "def subtable(Dataset,node,value):\n",
    "  return Dataset[Dataset[node] == value].reset_index(drop=True)"
   ]
  },
  {
   "cell_type": "code",
   "execution_count": 40,
   "metadata": {
    "collapsed": true
   },
   "outputs": [],
   "source": [
    "def decisionTree(Dataset,tree=None):\n",
    "    node = splits(Dataset)\n",
    "    attribute_Value = np.unique(Dataset[node])   \n",
    "    if tree is None:\n",
    "        tree={}\n",
    "        tree[node] = {}\n",
    "    for value in attribute_Value:\n",
    "        table = subtable(Dataset,node,value)\n",
    "        class_Value,counts = np.unique(table[Dataset.keys()[-1]],return_counts=True)\n",
    "        if len(counts)==1:\n",
    "            tree[node][value] = class_Value[0]\n",
    "        else:\n",
    "            tree[node][value] = decisionTree(table) \n",
    "    return(tree)"
   ]
  },
  {
   "cell_type": "code",
   "execution_count": 41,
   "metadata": {},
   "outputs": [
    {
     "data": {
      "text/plain": [
       "{'outlook': {'overcast': 'yes',\n",
       "  'rainy': {'windy': {False: 'yes', True: 'no'}},\n",
       "  'sunny': {'humidity': {'high': 'no', 'normal': 'yes'}}}}"
      ]
     },
     "execution_count": 41,
     "metadata": {},
     "output_type": "execute_result"
    }
   ],
   "source": [
    "decisionTree(Dataset,tree=None)"
   ]
  },
  {
   "cell_type": "code",
   "execution_count": null,
   "metadata": {
    "collapsed": true
   },
   "outputs": [],
   "source": []
  },
  {
   "cell_type": "code",
   "execution_count": null,
   "metadata": {
    "collapsed": true
   },
   "outputs": [],
   "source": []
  }
 ],
 "metadata": {
  "kernelspec": {
   "display_name": "Python 3",
   "language": "python",
   "name": "python3"
  },
  "language_info": {
   "codemirror_mode": {
    "name": "ipython",
    "version": 3
   },
   "file_extension": ".py",
   "mimetype": "text/x-python",
   "name": "python",
   "nbconvert_exporter": "python",
   "pygments_lexer": "ipython3",
   "version": "3.6.9"
  }
 },
 "nbformat": 4,
 "nbformat_minor": 2
}
