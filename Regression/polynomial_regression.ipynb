{
 "cells": [
  {
   "cell_type": "code",
   "execution_count": 2,
   "metadata": {},
   "outputs": [],
   "source": [
    "import pandas as pd\n",
    "import numpy as np\n",
    "import math\n",
    "import matplotlib.pyplot as plt\n",
    "from sklearn import preprocessing\n",
    "scaler = preprocessing.StandardScaler().fit(train_data)\n",
    "from sklearn.metrics import mean_squared_error\n",
    "from math import sqrt"
   ]
  },
  {
   "cell_type": "code",
   "execution_count": 3,
   "metadata": {},
   "outputs": [],
   "source": [
    "train_data = pd.read_csv('C:\\\\Users\\\\priya sinha\\\\Desktop\\\\Dataset\\\\trainreg.csv')\n",
    "test_data = pd.read_csv('C:\\\\Users\\\\priya sinha\\\\Desktop\\\\Dataset\\\\testreg.csv')"
   ]
  },
  {
   "cell_type": "code",
   "execution_count": 60,
   "metadata": {},
   "outputs": [],
   "source": [
    "train_data = scaler.transform(train_data)\n",
    "train_data=np.matrix(train_data)\n",
    "poly = preprocessing.PolynomialFeatures(2)\n",
    "x = poly.fit_transform(train_data[:,0:4])\n",
    "m = x.shape[0]\n",
    "actual_value = train_data[:,4:5]"
   ]
  },
  {
   "cell_type": "code",
   "execution_count": 83,
   "metadata": {},
   "outputs": [],
   "source": [
    "test_data = scaler.transform(train_data)\n",
    "test_data=np.matrix(train_data)\n",
    "poly = preprocessing.PolynomialFeatures(2)\n",
    "y = poly.fit_transform(test_data[:,0:4])\n",
    "n = y.shape[0]\n",
    "actual_value_test = test_data[:,4:5]"
   ]
  },
  {
   "cell_type": "code",
   "execution_count": 84,
   "metadata": {},
   "outputs": [],
   "source": [
    "def polynomial(epoach):\n",
    "    error = []\n",
    "    theta=np.ones((15,1))\n",
    "    for i in range(n):\n",
    "        y_predicted = (theta.T.dot(x.T)).T\n",
    "        J=(0.5/m)*(np.sum(np.square(y_predicted - actual_value)))\n",
    "        error.append(J)\n",
    "        if error[i] < 0.01:\n",
    "             break\n",
    "        else:\n",
    "             theta = gradient_descent(theta,y_predicted)\n",
    "    return(theta,error)"
   ]
  },
  {
   "cell_type": "code",
   "execution_count": 94,
   "metadata": {},
   "outputs": [],
   "source": [
    "def gradient_descent(theta,y_predicted):\n",
    "    alpha=0.0000000001\n",
    "    theta = theta - (alpha/m)*(((y_predicted - actual_value).T.dot(x)).T)\n",
    "    return(theta)"
   ]
  },
  {
   "cell_type": "code",
   "execution_count": 95,
   "metadata": {},
   "outputs": [],
   "source": [
    "def sol(epoch):\n",
    "    theta=polynomial(epoch)[0]\n",
    "    y1_predicted = (theta.T.dot(y.T)).T\n",
    "    return(y1_predicted)"
   ]
  },
  {
   "cell_type": "code",
   "execution_count": 96,
   "metadata": {},
   "outputs": [],
   "source": [
    "def rms(epoch):\n",
    "   y1_predicted=sol(epoch)\n",
    "   return(math.sqrt(np.sum(np.square(y1_predicted-actual_value_test))/n))\n",
    "   "
   ]
  },
  {
   "cell_type": "code",
   "execution_count": 99,
   "metadata": {},
   "outputs": [
    {
     "data": {
      "text/plain": [
       "0.1391611441671114"
      ]
     },
     "execution_count": 99,
     "metadata": {},
     "output_type": "execute_result"
    }
   ],
   "source": [
    "rms(1000)"
   ]
  },
  {
   "cell_type": "code",
   "execution_count": 100,
   "metadata": {},
   "outputs": [],
   "source": [
    "def plot(epoch):\n",
    "    error=polynomial(epoch)[1]\n",
    "    print(\"Plot between error and number of iteration is :\")\n",
    "    plt.plot([i for i in range(len(error))],error)"
   ]
  },
  {
   "cell_type": "code",
   "execution_count": 92,
   "metadata": {},
   "outputs": [
    {
     "name": "stdout",
     "output_type": "stream",
     "text": [
      "Plot between error and number of iteration is :\n"
     ]
    },
    {
     "data": {
      "image/png": "[encoded data removed]",
      "text/plain": [
       "<Figure size 432x288 with 1 Axes>"
      ]
     },
     "metadata": {},
     "output_type": "display_data"
    }
   ],
   "source": [
    "plot(100)"
   ]
  },
  {
   "cell_type": "code",
   "execution_count": null,
   "metadata": {},
   "outputs": [],
   "source": []
  }
 ],
 "metadata": {
  "kernelspec": {
   "display_name": "Python 3",
   "language": "python",
   "name": "python3"
  },
  "language_info": {
   "codemirror_mode": {
    "name": "ipython",
    "version": 3
   },
   "file_extension": ".py",
   "mimetype": "text/x-python",
   "name": "python",
   "nbconvert_exporter": "python",
   "pygments_lexer": "ipython3",
   "version": "3.6.5"
  }
 },
 "nbformat": 4,
 "nbformat_minor": 2
}
